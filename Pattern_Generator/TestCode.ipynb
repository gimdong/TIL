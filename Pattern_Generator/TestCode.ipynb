{
 "cells": [
  {
   "cell_type": "code",
   "execution_count": 1,
   "id": "ce0558ba",
   "metadata": {},
   "outputs": [],
   "source": [
    "import pandas as pd\n",
    "from CSVtoPD import NANDCommandLoader\n"
   ]
  },
  {
   "cell_type": "code",
   "execution_count": 2,
   "id": "38ff6e2b",
   "metadata": {},
   "outputs": [],
   "source": [
    "TestData = NANDCommandLoader(csv_path=\"./WL_01.csv\")"
   ]
  },
  {
   "cell_type": "code",
   "execution_count": 3,
   "id": "ef4fe19f",
   "metadata": {},
   "outputs": [
    {
     "name": "stdout",
     "output_type": "stream",
     "text": [
      "[INFO] CSV 파일이 성공적으로 로드되었습니다: ./WL_01.csv\n",
      "   index  time      CMD     OPT_1    OPT_2    OPT_3 OPT_4 OPT_5 OPT_6 OPT_7  OPT_8  TOP_9  CH  BANK  DESCRIPTION\n",
      "0      1   100  CMD(70)  DATA(80)      NaN      NaN   NaN   NaN   NaN   NaN    NaN    NaN   0     0  Read Status\n",
      "1      2   200  CMD(00)   ADD(00)  ADD(01)  ADD(02)   NaN   NaN   NaN   NaN    NaN    NaN   0     0        ERASE\n",
      "2      3   300  CMD(70)  DATA(80)      NaN      NaN   NaN   NaN   NaN   NaN    NaN    NaN   0     0  Read Status\n",
      "3      4   400  CMD(DA)       NaN      NaN      NaN   NaN   NaN   NaN   NaN    NaN    NaN   0     0   SLC Enable\n",
      "4      5   600  CMD(70)  DATA(81)      NaN      NaN   NaN   NaN   NaN   NaN    NaN    NaN   0     0  Read Status\n"
     ]
    }
   ],
   "source": [
    "TestData.load_csv()\n",
    "TestData.show_head()"
   ]
  },
  {
   "cell_type": "code",
   "execution_count": 4,
   "id": "343fab0e",
   "metadata": {},
   "outputs": [
    {
     "name": "stdout",
     "output_type": "stream",
     "text": [
      "[INFO] JSON 파일로 저장되었습니다: ./WL_01.json\n"
     ]
    }
   ],
   "source": [
    "import json\n",
    "import math\n",
    "json_data = TestData.df.to_dict(orient='records')\n",
    "#print(json.dumps(json_data, indent=4 ))\n",
    "# nan 값을 None으로 변환하여 json 변환 시 필드가 없는 것으로 처리\n",
    "\n",
    "def remove_nan(d):\n",
    "    return {k: v for k, v in d.items() if not (isinstance(v, float) and math.isnan(v))}\n",
    "\n",
    "json_data_no_nan = [remove_nan(item) for item in json_data]\n",
    "\n",
    "# JSON 파일로 저장\n",
    "with open('./WL_01.json', 'w', encoding='utf-8') as f:\n",
    "    json.dump(json_data_no_nan, f, indent=4, ensure_ascii=False)\n",
    "\n",
    "print(f\"[INFO] JSON 파일로 저장되었습니다: {'./WL_01.json'}\")"
   ]
  },
  {
   "cell_type": "code",
   "execution_count": 5,
   "id": "46f8e84c",
   "metadata": {},
   "outputs": [
    {
     "ename": "SystemExit",
     "evalue": "0",
     "output_type": "error",
     "traceback": [
      "An exception has occurred, use %tb to see the full traceback.\n",
      "\u001b[0;31mSystemExit\u001b[0m\u001b[0;31m:\u001b[0m 0\n"
     ]
    },
    {
     "name": "stderr",
     "output_type": "stream",
     "text": [
      "/Users/gdh/.pyenv/versions/3.10.13/lib/python3.10/site-packages/IPython/core/interactiveshell.py:3587: UserWarning: To exit: use 'exit', 'quit', or Ctrl-D.\n",
      "  warn(\"To exit: use 'exit', 'quit', or Ctrl-D.\", stacklevel=1)\n"
     ]
    }
   ],
   "source": [
    "import sys\n",
    "from PyQt5.QtWidgets import QApplication, QGraphicsScene, QGraphicsView, QGraphicsRectItem, QGraphicsTextItem\n",
    "from PyQt5.QtGui import QColor, QBrush\n",
    "from PyQt5.QtCore import QRectF\n",
    "from PyQt5.QtGui import QPolygonF, QPen\n",
    "from PyQt5.QtCore import QPointF\n",
    "# PyQt5를 사용하여 플랫 NAND 시퀀스 다이어그램 그리기\n",
    "\n",
    "def draw_flat_sequence_diagram(data):\n",
    "    app = QApplication(sys.argv)\n",
    "    scene = QGraphicsScene()\n",
    "    width = 1200\n",
    "    height = 200\n",
    "    x_start = 40\n",
    "    y = 80\n",
    "    box_width = 120\n",
    "    box_height = 60\n",
    "    gap = 20\n",
    "\n",
    "    # 시퀀스 리스트 만들기 (CMD/옵션/설명 정보 포함)\n",
    "    sequence = []\n",
    "    for item in data:\n",
    "        # CMD\n",
    "        sequence.append({\n",
    "            'text': item['CMD'],\n",
    "            'type': 'CMD',\n",
    "            'desc': item.get('DESCRIPTION', ''),\n",
    "            'index': item.get('index', '')\n",
    "        })\n",
    "        # OPT_1 ~ OPT_8, TOP_9\n",
    "        for k in ['OPT_1','OPT_2','OPT_3','OPT_4','OPT_5','OPT_6','OPT_7','OPT_8','TOP_9']:\n",
    "            if k in item and item[k] is not None and str(item[k]) != 'nan':\n",
    "                val = item[k]\n",
    "                if str(val).startswith('ADD'):\n",
    "                    typ = 'ADD'\n",
    "                elif str(val).startswith('DATA'):\n",
    "                    typ = 'DATA'\n",
    "                else:\n",
    "                    typ = 'ETC'\n",
    "                sequence.append({\n",
    "                    'text': val,\n",
    "                    'type': typ,\n",
    "                    'desc': '',\n",
    "                    'index': ''\n",
    "                })\n",
    "\n",
    "    # 색상 매핑\n",
    "    color_map = {\n",
    "        'CMD': QColor(220, 250, 220),\n",
    "        'ADD': QColor(220, 220, 250),\n",
    "        'DATA': QColor(250, 220, 220),\n",
    "        'ETC': QColor(240, 240, 240)\n",
    "    }\n",
    "\n",
    "    for i, entry in enumerate(sequence):\n",
    "        x = x_start + i * (box_width + gap)\n",
    "        rect = QGraphicsRectItem(QRectF(x, y, box_width, box_height))\n",
    "        rect.setBrush(QBrush(color_map.get(entry['type'], QColor(240, 240, 240))))\n",
    "        scene.addItem(rect)\n",
    "\n",
    "        # CMD 위에 Description과 index 표기\n",
    "        if entry['type'] == 'CMD':\n",
    "            desc_text = f\"{entry['index']}: {entry['desc']}\"\n",
    "            desc_item = QGraphicsTextItem(desc_text)\n",
    "            desc_item.setPos(x + 5, y - 30)\n",
    "            scene.addItem(desc_item)\n",
    "\n",
    "        # 육각형 그리기 (네모 대신 육각형을 사용)\n",
    "        # 육각형 좌표 계산\n",
    "        cx = x + box_width / 2\n",
    "        cy = y + box_height / 2\n",
    "        r = min(box_width, box_height) / 2 - 5\n",
    "        hex_points = [\n",
    "            QPointF(cx + r * math.cos(math.radians(angle)), cy + r * math.sin(math.radians(angle)))\n",
    "            for angle in range(0, 360, 60)\n",
    "        ]\n",
    "        hexagon = QPolygonF(hex_points)\n",
    "        hex_item = scene.addPolygon(hexagon, QPen(), QBrush(color_map.get(entry['type'], QColor(240, 240, 240))))\n",
    "\n",
    "        # 텍스트 추가 (육각형 중앙에 위치)\n",
    "        txt_item = QGraphicsTextItem(str(entry['text']))\n",
    "        txt_item.setDefaultTextColor(QColor(0, 0, 0))\n",
    "        # 텍스트 중앙 정렬을 위해 위치 조정\n",
    "        text_rect = txt_item.boundingRect()\n",
    "        txt_item.setPos(cx - text_rect.width() / 2, cy - text_rect.height() / 2)\n",
    "        scene.addItem(txt_item)\n",
    "\n",
    "        # 육각형 좌표 계산\n",
    "        cx = x + box_width / 2\n",
    "        cy = y + box_height / 2\n",
    "        r = min(box_width, box_height) / 2 - 5\n",
    "        hex_points = [\n",
    "            QPointF(cx + r * math.cos(math.radians(angle)), cy + r * math.sin(math.radians(angle)))\n",
    "            for angle in range(0, 360, 60)\n",
    "        ]\n",
    "        hexagon = QPolygonF(hex_points)\n",
    "        hex_item = scene.addPolygon(hexagon, QPen(), QBrush(color_map.get(entry['type'], QColor(240, 240, 240))))\n",
    "        \n",
    "        # 텍스트 추가 (검정색)\n",
    "        txt_item = QGraphicsTextItem(str(entry['text']))\n",
    "        txt_item.setDefaultTextColor(QColor(0, 0, 0))\n",
    "        txt_item.setPos(x + 10, y + 15)\n",
    "        scene.addItem(txt_item)\n",
    "\n",
    "    view = QGraphicsView(scene)\n",
    "    view.setWindowTitle(\"Flat NAND Command Sequence Diagram\")\n",
    "    view.resize(width, height)\n",
    "    view.show()\n",
    "    sys.exit(app.exec_())\n",
    "\n",
    "draw_flat_sequence_diagram(json_data_no_nan)\n"
   ]
  },
  {
   "cell_type": "code",
   "execution_count": null,
   "id": "b4ac8c7a",
   "metadata": {},
   "outputs": [],
   "source": []
  },
  {
   "cell_type": "code",
   "execution_count": null,
   "id": "cb5fc5ac",
   "metadata": {},
   "outputs": [],
   "source": [
    "data = json.load(open('./WL_01.json', 'r', encoding='utf-8'))\n",
    "\n",
    "with open('./WL_01.txt', 'w', encoding='utf-8') as f:\n",
    "    for item in data:\n",
    "        f.write(f\"*-{item['index']} : {item['DESCRIPTION']} ----------* \\n\")\n",
    "        # OPT_1 ~ OPT_9 값이 nan이더라도 NOP 라인 출력\n",
    "        opt_keys = ['OPT_1', 'OPT_2', 'OPT_3', 'OPT_4', 'OPT_5', 'OPT_6', 'OPT_7', 'OPT_8', 'TOP_9']\n",
    "        opts = [str(item.get(k)) for k in opt_keys if item.get(k) is not None]\n",
    "        f.write(f\"NOP {item['CMD']} {' '.join(opts)} \\n\")\n"
   ]
  }
 ],
 "metadata": {
  "kernelspec": {
   "display_name": "Python 3",
   "language": "python",
   "name": "python3"
  },
  "language_info": {
   "codemirror_mode": {
    "name": "ipython",
    "version": 3
   },
   "file_extension": ".py",
   "mimetype": "text/x-python",
   "name": "python",
   "nbconvert_exporter": "python",
   "pygments_lexer": "ipython3",
   "version": "3.10.13"
  }
 },
 "nbformat": 4,
 "nbformat_minor": 5
}
