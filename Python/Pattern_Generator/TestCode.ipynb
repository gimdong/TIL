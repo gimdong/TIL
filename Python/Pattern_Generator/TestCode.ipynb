{
 "cells": [
  {
   "cell_type": "code",
   "execution_count": 5,
   "id": "ce0558ba",
   "metadata": {},
   "outputs": [],
   "source": [
    "# -*- coding: utf-8 -*-\n",
    "from CSVtoPD import NANDCommandLoader\n"
   ]
  },
  {
   "cell_type": "code",
   "execution_count": 6,
   "id": "38ff6e2b",
   "metadata": {},
   "outputs": [],
   "source": [
    "TestData = NANDCommandLoader(csv_path=\"./WL_01.csv\")"
   ]
  },
  {
   "cell_type": "code",
   "execution_count": 7,
   "id": "ef4fe19f",
   "metadata": {},
   "outputs": [
    {
     "name": "stdout",
     "output_type": "stream",
     "text": [
      "[INFO] CSV 파일이 성공적으로 로드되었습니다: ./WL_01.csv\n",
      "   index  time      CMD     OPT_1    OPT_2    OPT_3 OPT_4 OPT_5 OPT_6 OPT_7  OPT_8  TOP_9  CH  BANK  DESCRIPTION\n",
      "0      1   100  CMD(70)  DATA(80)      NaN      NaN   NaN   NaN   NaN   NaN    NaN    NaN   0     0  Read Status\n",
      "1      2   200  CMD(00)   ADD(00)  ADD(01)  ADD(02)   NaN   NaN   NaN   NaN    NaN    NaN   0     0        ERASE\n",
      "2      3   300  CMD(70)  DATA(80)      NaN      NaN   NaN   NaN   NaN   NaN    NaN    NaN   0     0  Read Status\n",
      "3      4   400  CMD(DA)       NaN      NaN      NaN   NaN   NaN   NaN   NaN    NaN    NaN   0     0   SLC Enable\n",
      "4      5   600  CMD(70)  DATA(81)      NaN      NaN   NaN   NaN   NaN   NaN    NaN    NaN   0     0  Read Status\n"
     ]
    }
   ],
   "source": [
    "TestData.load_csv()\n",
    "TestData.show_head()"
   ]
  },
  {
   "cell_type": "code",
   "execution_count": 10,
   "id": "343fab0e",
   "metadata": {},
   "outputs": [
    {
     "name": "stdout",
     "output_type": "stream",
     "text": [
      "[INFO] JSON 파일로 저장되었습니다: ./WL_01.json\n"
     ]
    }
   ],
   "source": [
    "import json\n",
    "import math\n",
    "json_data = TestData.df.to_dict(orient='records')\n",
    "#print(json.dumps(json_data, indent=4 ))\n",
    "# nan 값을 None으로 변환하여 json 변환 시 필드가 없는 것으로 처리\n",
    "\n",
    "def remove_nan(d):\n",
    "    return {k: v for k, v in d.items() if not (isinstance(v, float) and math.isnan(v))}\n",
    "\n",
    "json_data_no_nan = [remove_nan(item) for item in json_data]\n",
    "\n",
    "# JSON 파일로 저장\n",
    "with open('./WL_01.json', 'w', encoding='utf-8') as f:\n",
    "    json.dump(json_data_no_nan, f, indent=4, ensure_ascii=False)\n",
    "\n",
    "print(f\"[INFO] JSON 파일로 저장되었습니다: {'./WL_01.json'}\")"
   ]
  },
  {
   "cell_type": "code",
   "execution_count": null,
   "id": "cb5fc5ac",
   "metadata": {},
   "outputs": [],
   "source": [
    "data = json.load(open('./WL_01.json', 'r', encoding='utf-8'))\n",
    "\n",
    "with open('./WL_01.txt', 'w', encoding='utf-8') as f:\n",
    "    for item in data:\n",
    "        f.write(f\"*-{item['index']} : {item['DESCRIPTION']} ----------* \\n\")\n",
    "        # OPT_1 ~ OPT_9 값이 nan이더라도 NOP 라인 출력\n",
    "        opt_keys = ['OPT_1', 'OPT_2', 'OPT_3', 'OPT_4', 'OPT_5', 'OPT_6', 'OPT_7', 'OPT_8', 'TOP_9']\n",
    "        opts = [str(item.get(k)) for k in opt_keys if item.get(k) is not None]\n",
    "        f.write(f\"NOP {item['CMD']} {''.join(opts)} TS15 \\n\")\n",
    "\n",
    "        # OPT_1 ~ OPT_9 값이 CMD인 경우\n",
    "        for i, opt in enumerate(opts, start=1):\n",
    "            if opt == item['CMD']:\n",
    "                f.write(f\"OPT_{i} {item['CMD']} {''.join(opts)} TS15 \\n\")\n",
    "        f.write(\"\\n\")\n",
    "\n",
    "        # OPT_1 ~ OPT_9 값이 ADD인 경우\n",
    "        for i, opt in enumerate(opts, start=1):\n",
    "            if opt == 'ADD':\n",
    "                f.write(f\"OPT_{i} {item['ADD']} {''.join(opts)} TS15 \\n\")\n",
    "        f.write(\"\\n\")   "
   ]
  },
  {
   "cell_type": "code",
   "execution_count": null,
   "id": "4a654f12",
   "metadata": {},
   "outputs": [],
   "source": [
    "data = json.load(open('./WL_01.json', 'r', encoding='utf-8'))\n",
    "\n",
    "with open('./WL_01.txt', 'w', encoding='utf-8') as f:\n",
    "    for item in data:\n",
    "        f.write(f\"*-{item['index']} : {item['DESCRIPTION']} ----------* \\n\")\n",
    "        # NOP CMD TS15\n",
    "        f.write(f\"NOP {item['CMD']} TS15\\n\")\n",
    "        # NOP OPT_1 TS15, NOP OPT_2 TS15, ...\n",
    "        opt_keys = ['OPT_1', 'OPT_2', 'OPT_3', 'OPT_4', 'OPT_5', 'OPT_6', 'OPT_7', 'OPT_8', 'TOP_9']\n",
    "        for k in opt_keys:\n",
    "            if k in item and item[k] is not None:\n",
    "                f.write(f\"NOP {item[k]} TS15\\n\")\n",
    "        f.write(\"\\n\")"
   ]
  },
  {
   "cell_type": "code",
   "execution_count": 11,
   "id": "8a67abaf",
   "metadata": {},
   "outputs": [
    {
     "name": "stdout",
     "output_type": "stream",
     "text": [
      "[INFO] JSON 파일로 저장되었습니다: ./WL_01_ver01.json\n"
     ]
    }
   ],
   "source": [
    "import json\n",
    "import math\n",
    "\n",
    "json_data = TestData.df.to_dict(orient='records')\n",
    "\n",
    "def remove_nan(d):\n",
    "    return {k: v for k, v in d.items() if not (isinstance(v, float) and math.isnan(v))}\n",
    "\n",
    "def convert_row(row):\n",
    "    row = remove_nan(row)\n",
    "    # CMD 값 추출\n",
    "    cmd = row.get('CMD')\n",
    "    # OPT_1~OPT_9, TOP_9 추출 및 변환\n",
    "    opt_keys = ['OPT_1', 'OPT_2', 'OPT_3', 'OPT_4', 'OPT_5', 'OPT_6', 'OPT_7', 'OPT_8', 'TOP_9']\n",
    "    opts = []\n",
    "    for k in opt_keys:\n",
    "        if k in row and row[k] is not None:\n",
    "            # TYPE 추출 (예: ADD(00) → TYPE: ADD, VALUE: 00)\n",
    "            val = str(row[k])\n",
    "            if '(' in val and ')' in val:\n",
    "                type_, value = val.split('(')\n",
    "                value = value.rstrip(')')\n",
    "                opts.append({\"TYPE\": type_, \"VALUE\": value})\n",
    "            else:\n",
    "                opts.append({\"TYPE\": val, \"VALUE\": \"\"})\n",
    "    # 새 구조로 반환\n",
    "    new_row = {\n",
    "        \"index\": row.get(\"index\"),\n",
    "        \"DESCRIPTION\": row.get(\"DESCRIPTION\"),\n",
    "        \"CMD\": cmd,\n",
    "        \"OPT\": opts\n",
    "    }\n",
    "    return new_row\n",
    "\n",
    "json_data_structured = [convert_row(item) for item in json_data]\n",
    "\n",
    "with open('./WL_01_ver01.json', 'w', encoding='utf-8') as f:\n",
    "    json.dump(json_data_structured, f, indent=4, ensure_ascii=False)\n",
    "\n",
    "print(f\"[INFO] JSON 파일로 저장되었습니다: {'./WL_01_ver01.json'}\")"
   ]
  },
  {
   "cell_type": "code",
   "execution_count": 13,
   "id": "6b3b0e5a",
   "metadata": {},
   "outputs": [
    {
     "name": "stdout",
     "output_type": "stream",
     "text": [
      "[INFO] JSON 파일로 저장되었습니다: ./WL_01_ver01.json\n"
     ]
    }
   ],
   "source": [
    "import json\n",
    "import math\n",
    "\n",
    "json_data = TestData.df.to_dict(orient='records')\n",
    "\n",
    "def remove_nan(d):\n",
    "    return {k: v for k, v in d.items() if not (isinstance(v, float) and math.isnan(v))}\n",
    "\n",
    "def extract_code(val):\n",
    "    \"\"\"CMD(00) → 00, ADD(0A) → 0A 등에서 괄호 안 값만 추출, 없으면 원본 반환\"\"\"\n",
    "    val = str(val)\n",
    "    if '(' in val and ')' in val:\n",
    "        code = val.split('(')[1].rstrip(')')\n",
    "        return code.upper()\n",
    "    return val.upper()\n",
    "\n",
    "def convert_row(row):\n",
    "    row = remove_nan(row)\n",
    "    # CMD 값 추출 (CMD(00) → 00)\n",
    "    cmd = row.get('CMD')\n",
    "    cmd_val = extract_code(cmd) if cmd else \"\"\n",
    "    # OPT_1~OPT_9, TOP_9 추출 및 변환\n",
    "    opt_keys = ['OPT_1', 'OPT_2', 'OPT_3', 'OPT_4', 'OPT_5', 'OPT_6', 'OPT_7', 'OPT_8', 'TOP_9']\n",
    "    opts = []\n",
    "    for k in opt_keys:\n",
    "        if k in row and row[k] is not None:\n",
    "            val = str(row[k])\n",
    "            if '(' in val and ')' in val:\n",
    "                type_, value = val.split('(')\n",
    "                value = value.rstrip(')')\n",
    "                # VALUE를 항상 16진수 대문자 문자열로\n",
    "                try:\n",
    "                    value_hex = f\"{int(value, 16):02X}\"\n",
    "                except Exception:\n",
    "                    value_hex = value.upper()\n",
    "                opts.append({\"TYPE\": type_.strip(), \"VALUE\": value_hex})\n",
    "            else:\n",
    "                opts.append({\"TYPE\": val.strip(), \"VALUE\": \"\"})\n",
    "    # 새 구조로 반환\n",
    "    new_row = {\n",
    "        \"index\": row.get(\"index\"),\n",
    "        \"DESCRIPTION\": row.get(\"DESCRIPTION\"),\n",
    "        \"CMD\": cmd_val,\n",
    "        \"OPT\": opts\n",
    "    }\n",
    "    return new_row\n",
    "\n",
    "json_data_structured = [convert_row(item) for item in json_data]\n",
    "\n",
    "with open('./WL_01_ver01.json', 'w', encoding='utf-8') as f:\n",
    "    json.dump(json_data_structured, f, indent=4, ensure_ascii=False)\n",
    "\n",
    "print(f\"[INFO] JSON 파일로 저장되었습니다: {'./WL_01_ver01.json'}\")"
   ]
  },
  {
   "cell_type": "code",
   "execution_count": 16,
   "id": "b0c90c86",
   "metadata": {},
   "outputs": [],
   "source": [
    "data = json.load(open('./WL_01_ver01.json', 'r', encoding='utf-8'))\n",
    "\n",
    "with open('./WL_01.txt', 'w', encoding='utf-8') as f:\n",
    "    for item in data:\n",
    "        # 제목 라인을 30글자로 맞추기 위해 '-' 개수 자동 조절\n",
    "        desc = f\"*-{item['index']} : {item['DESCRIPTION']} \"\n",
    "        dash_count = 30 - len(desc)\n",
    "        if dash_count < 0:\n",
    "            dash_count = 0\n",
    "        f.write(desc + '-' * dash_count + '* \\n')\n",
    "        # CMD 항목\n",
    "        if 'CMD' in item and item['CMD']:\n",
    "            f.write(f\"NOP CMD TP<#{item['CMD']} TS15\\n\")\n",
    "        # OPT 항목\n",
    "        if 'OPT' in item and isinstance(item['OPT'], list):\n",
    "            for opt in item['OPT']:\n",
    "                type_ = opt.get('TYPE', '')\n",
    "                value = opt.get('VALUE', '')\n",
    "                if type_ and value:\n",
    "                    f.write(f\"NOP {type_} TP<#{value} TS15\\n\")\n",
    "                elif type_:\n",
    "                    f.write(f\"NOP {type_} TS15\\n\")\n",
    "        "
   ]
  },
  {
   "cell_type": "code",
   "execution_count": 11,
   "id": "78490dea",
   "metadata": {},
   "outputs": [
    {
     "name": "stdout",
     "output_type": "stream",
     "text": [
      "[INFO] JSON 파일로 저장되었습니다: ./WL_01_final.json\n",
      "[INFO] 최종 JSON 파일로 저장되었습니다: ./WL_01_final.json\n"
     ]
    }
   ],
   "source": [
    "from PDtoJSON import NANDDataConverter\n",
    "\n",
    "converter = NANDDataConverter(TestData.df)\n",
    "converter.convert_and_save('./WL_01_final.json')\n",
    "print(f\"[INFO] 최종 JSON 파일로 저장되었습니다: {'./WL_01_final.json'}\")\n"
   ]
  },
  {
   "cell_type": "code",
   "execution_count": 12,
   "id": "c1e845e6",
   "metadata": {},
   "outputs": [
    {
     "name": "stdout",
     "output_type": "stream",
     "text": [
      "[INFO] JSON 파일이 로드되었습니다: ./WL_01_final.json\n",
      "[INFO] 텍스트 파일로 저장되었습니다: ./WL_01_final.txt\n",
      "[INFO] 최종 텍스트 파일로 저장되었습니다: ./WL_01_final.txt\n"
     ]
    }
   ],
   "source": [
    "from JSONtoTEXT import NANDTextGenerator\n",
    "text_generator = NANDTextGenerator('./WL_01_final.json')\n",
    "text_generator.generate_and_save('./WL_01_final.txt')\n",
    "print(f\"[INFO] 최종 텍스트 파일로 저장되었습니다: {'./WL_01_final.txt'}\")"
   ]
  }
 ],
 "metadata": {
  "kernelspec": {
   "display_name": "3.10.13",
   "language": "python",
   "name": "python3"
  },
  "language_info": {
   "codemirror_mode": {
    "name": "ipython",
    "version": 3
   },
   "file_extension": ".py",
   "mimetype": "text/x-python",
   "name": "python",
   "nbconvert_exporter": "python",
   "pygments_lexer": "ipython3",
   "version": "3.10.13"
  }
 },
 "nbformat": 4,
 "nbformat_minor": 5
}
